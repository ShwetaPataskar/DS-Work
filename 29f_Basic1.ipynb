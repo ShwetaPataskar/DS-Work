{
 "cells": [
  {
   "cell_type": "markdown",
   "id": "2a733db4-f5cb-4235-bb0e-046109704fee",
   "metadata": {},
   "source": [
    "Q1. Who developed Python programming language?\n",
    "Python was invented by Guido van Rossum"
   ]
  },
  {
   "cell_type": "markdown",
   "id": "b93d2f06-35c2-423e-bec6-d3f76422799c",
   "metadata": {},
   "source": [
    "Q2. Which type of programming does Python support?\n",
    "1. Procedural Programming: Python supports procedural programming, which involves organizing code into reusable procedures or functions that can be called when needed.\n",
    "\n",
    "2. Object-Oriented Programming (OOP): Python supports OOP, which allows users to define classes and objects that encapsulate data and behavior.\n",
    "\n",
    "3. Functional Programming: Python supports functional programming, which involves using pure functions that don't have side effects and avoid changing state.\n",
    "\n",
    "4. Aspect-oriented Programming: Python also supports aspect-oriented programming, which allows users to separate cross-cutting concerns such as logging and error handling from the main logic of the program.\n",
    "\n",
    "5. Scripting: Python is often used as a scripting language, which involves writing short programs to automate tasks or to glue together other programs\n"
   ]
  },
  {
   "cell_type": "markdown",
   "id": "0517954b-fdbb-44f2-8c93-508f57e3de80",
   "metadata": {},
   "source": [
    "Q3. Is python case sensitive when dealing with identifiers?\n",
    "\n",
    "Yes, Python is a case-sensitive language. That is, it considers uppercase and lowercase characters differently. "
   ]
  },
  {
   "cell_type": "markdown",
   "id": "3b56565d-581e-4b6e-9736-f7da0cbe3231",
   "metadata": {},
   "source": [
    "Q4. What is correct extension of Python file?\n",
    "\n",
    "\".py \" is correct extension of python file"
   ]
  },
  {
   "cell_type": "markdown",
   "id": "f942a347-693c-4795-949f-438b29bb5797",
   "metadata": {},
   "source": [
    "Q5. Is python code compiled or interpreted?\n",
    "\n",
    "Python is both compiled and interpreted (i.e., is a hybrid language). Source code (.py) is provided to the comiler which then generates the Bytecode (.pyc). This bytecode is then provided to the interpretor. Interpretor is part of PVM, where PVM then turns this Bytecode into machine code which we cant see. But atlast we get the output. "
   ]
  },
  {
   "cell_type": "markdown",
   "id": "710fce4c-9fa2-42eb-87b7-cb77704b1b91",
   "metadata": {},
   "source": [
    "Q6. Name few blocks of code used to define in Python language?\n",
    "\n",
    "1. Function Block\n",
    "2. Class Block\n",
    "3. Conditional Blocks\n",
    "4. Loop Blocks"
   ]
  },
  {
   "cell_type": "markdown",
   "id": "6e23f4c8-87d4-4e82-bf7e-e0bd0b342f1f",
   "metadata": {},
   "source": [
    "Q7. State a character used to give single-line comments in Python?\n",
    "\n",
    "\"#\" is used to give single line comments in python"
   ]
  },
  {
   "cell_type": "markdown",
   "id": "b87393c6-8e38-4461-985a-bb7d7e92e52d",
   "metadata": {},
   "source": [
    "Q8. Mention function which can help us to find the version of python that we are currently working on?\n",
    "\n",
    "we can use the 'sys' module's 'version' attribute. Here's an example:\n",
    "\n",
    "import sys\n",
    "\n",
    "print(\"python version:\",sys.version)\n"
   ]
  },
  {
   "cell_type": "markdown",
   "id": "e5fdd139-27dc-456d-a933-23aa54d66e9d",
   "metadata": {},
   "source": [
    "Q9. Python supports the creation of anonymous function at runtime, using a construct called \"lambda\""
   ]
  },
  {
   "cell_type": "markdown",
   "id": "549a8ecd-b3c8-4f2f-bc78-da0cfd993cb7",
   "metadata": {},
   "source": [
    "Q10. What does pip stand for python?\n",
    "\n",
    "PIP is a package manager for Python packages, or modules."
   ]
  },
  {
   "cell_type": "markdown",
   "id": "64c9cd6f-50c6-4741-abca-d599f51fd0d6",
   "metadata": {},
   "source": [
    "Q11. Mention few built-in functions in python?\n",
    "\n",
    "Built-in functions in python are as below:\n",
    "\n",
    "abs(), all(), dict(), dir(), filter(), float(), int(), issubclass(), len(), list(), map(), reduce(), range(), reversed(), set(), type(), tuple() \n"
   ]
  },
  {
   "cell_type": "markdown",
   "id": "ff818339-62c3-446e-bd91-61adbc7aaae1",
   "metadata": {},
   "source": [
    "Q12. What is the maximum possible length of an identifier in Python?\n",
    "\n",
    "An identifier can have a maximum length of 79 characters in Python."
   ]
  },
  {
   "cell_type": "markdown",
   "id": "dc936c16-a26b-4ff7-8863-deb90e76d092",
   "metadata": {},
   "source": [
    "Q13. What are the benefits of using Python?\n",
    "Benefits of python as below:\n",
    "1. Interpreted Language\n",
    "2. Improved Productivity\n",
    "3. Easy to Read, Learn and Write\n",
    "4. Free and Open-Source\n",
    "5. Dynamically Typed\n",
    "6. Vast Libraries Support"
   ]
  },
  {
   "cell_type": "markdown",
   "id": "ebf1d994-d867-4eea-88d7-6ffcc9d4227a",
   "metadata": {},
   "source": [
    "Q14. How is memory managed in Python?\n",
    "\n",
    "In python memory is managed by the Python manager which determines where to put the application data in the memory. There are two types of virtual memory works while executing programs.\n",
    "1. Static Memory allocation-- Static memory allocation happens at the compile time. Memory is allocated at the time of compilation. However, we cannot use the memory again in the further program.\n",
    "\n",
    "Stack Allocation--The Stack data structure is used to store the static memory. It is only needed inside the particular function or method call. \n",
    "\n",
    "2. Dynamic memory allocation-- Dynamic memory allocates the memory at the runtime to the program. Memory is allocated to the objects at the run time. We use the Heap for implement dynamic memory management. We can use the memory throughout the program. \n",
    "\n",
    "Heap Memory Allocation-- It is type of memory that uses outside the program at the global space. One of the best advantages of heap memory is to it freed up the memory space if the object is no longer in use or the node is deleted.\n",
    "\n",
    "Python Garbage Collector-Python removes those objects that are no longer in use or can say that it frees up the memory space. This process of vanish the unnecessary object's memory space is called the Garbage Collector. The Python garbage collector initiates its execution with the program and is activated if the reference count falls to zero."
   ]
  },
  {
   "cell_type": "markdown",
   "id": "20a4db7d-f6a0-4f48-b838-495f835fcfdb",
   "metadata": {},
   "source": [
    "Q15. How to install Python on Windows and set path variables\n",
    "\n",
    "download python and insatll the same. After this proceed for the path setup.\n",
    "1. Right click on My Computer and click on properties.\n",
    "2. Click on Advanced System settings\n",
    "3. Click on Environment Variable tab.\n",
    "4. Click on new tab of user variables.\n",
    "5. Write path in variable name\n",
    "6. Copy the path of Python folder\n",
    "7. Paste path of Python in variable value.\n",
    "8. Click on Ok button>\n",
    "9.Click on Ok button"
   ]
  },
  {
   "cell_type": "markdown",
   "id": "4922b47e-0b4f-4f52-b9ba-077ef903f401",
   "metadata": {},
   "source": [
    "Q16. Is indentation required in python?"
   ]
  },
  {
   "cell_type": "code",
   "execution_count": null,
   "id": "1fe30718-44c9-488b-9ed9-0ceeaff044b8",
   "metadata": {},
   "outputs": [],
   "source": []
  }
 ],
 "metadata": {
  "kernelspec": {
   "display_name": "Python 3 (ipykernel)",
   "language": "python",
   "name": "python3"
  },
  "language_info": {
   "codemirror_mode": {
    "name": "ipython",
    "version": 3
   },
   "file_extension": ".py",
   "mimetype": "text/x-python",
   "name": "python",
   "nbconvert_exporter": "python",
   "pygments_lexer": "ipython3",
   "version": "3.10.8"
  }
 },
 "nbformat": 4,
 "nbformat_minor": 5
}
