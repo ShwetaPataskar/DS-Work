{
 "cells": [
  {
   "cell_type": "markdown",
   "id": "e6cf0cd7-9957-40b1-b76e-ee4d11dc8b1d",
   "metadata": {},
   "source": [
    "Q1. What is a database? Differentiate between SQL and NoSQL databases.\n",
    "\n",
    "-A database is a structured collection of data that is organized and stored for efficient retrieval, manipulation, and management.         \n",
    "-It provides a way to store and manage large volumes of data and allows users or applications to perform various operations on that data.\n",
    "\n",
    "a) SQL Databases:\n",
    "\n",
    "-It is a Relational databases based on the SQL language.    \n",
    "-it Uses predefined schemas and It has fixed tables with rows and columns.    \n",
    "-In this Data is organized in a structured manner, with relationships defined between tables using foreign keys.                    \n",
    "-Examples of SQL databases include MySQL, PostgreSQL, Oracle, and Microsoft SQL Server.                             \n",
    "-It is Suitable for applications that require complex querying, data integrity, and structured data representation.                  \n",
    "-ACID (Atomicity, Consistency, Isolation, Durability) compliance is typically supported for maintaining data consistency.          \n",
    "\n",
    "b)NoSQL Databases:            \n",
    "-Non-relational databases designed to handle large volumes of unstructured or semi-structured data.                  \n",
    "-Do not rely on a fixed schema and allow flexible data models, such as key-value pairs, documents, columnar, or graph-based structures.               \n",
    "-Data can be stored and retrieved in a more flexible and scalable manner.     \n",
    "-Examples of NoSQL databases include MongoDB, Cassandra, Redis, and Amazon DynamoDB.                                              \n",
    "-Suitable for applications with rapidly changing or unstructured data, horizontal scaling needs, and high availability requirements.                \n",
    "-Often provide eventual consistency and relaxed transaction guarantees to achieve scalability and performance.                 \n"
   ]
  },
  {
   "cell_type": "code",
   "execution_count": null,
   "id": "51aeadc9-568b-46bb-a81f-6de05b803867",
   "metadata": {},
   "outputs": [],
   "source": []
  },
  {
   "cell_type": "markdown",
   "id": "50248430-2c1e-441a-bee8-ccc4af2b64a4",
   "metadata": {},
   "source": [
    "Q2. What is DDL? Explain why CREATE, DROP, ALTER, and TRUNCATE are used with an example.\n",
    "\n",
    "DDL is \"data definition language\". It is a subset of SQL (Structured Query Language) used to define and manage the structure of a database. DDL statements are used to create, modify, and delete database objects such as tables, indexes, views, and constraints.\n",
    "\n",
    "1) CREATE:\n",
    "\n",
    "Used to create new database objects like tables, indexes, views, or constraints.                               \n",
    "Example: CREATE TABLE Students (id INT, name VARCHAR(50), age INT);\n",
    "\n",
    "2) DROP:\n",
    "\n",
    "Used to remove an existing database object from the database.               \n",
    "Example: DROP TABLE Students;\n",
    "\n",
    "3) ALTER:\n",
    "\n",
    "Used to modify the structure of an existing database object, such as adding or dropping columns, modifying data types, or renaming objects.                   \n",
    "Example: ALTER TABLE Students ADD COLUMN grade VARCHAR(2);\n",
    "\n",
    "4) TRUNCATE:\n",
    "\n",
    "Used to remove all data from a table while keeping the structure intact.      \n",
    "Example: TRUNCATE TABLE Students;"
   ]
  },
  {
   "cell_type": "code",
   "execution_count": null,
   "id": "853b059b-fdee-464f-8448-b38cfcd1b89a",
   "metadata": {},
   "outputs": [],
   "source": []
  },
  {
   "cell_type": "markdown",
   "id": "abc33029-e938-4df6-b576-79333a8cfccc",
   "metadata": {},
   "source": [
    "Q3. What is DML? Explain INSERT, UPDATE, and DELETE with an example.\n",
    "\n",
    "DML stands for Data Manipulation Language. It is a subset of SQL (Structured Query Language) used to retrieve, insert, update, and delete data in a database. DML statements allow you to interact with the data stored in the database tables.\n",
    "\n",
    "1) INSERT:\n",
    "\n",
    "Used to insert new records into a table.                    \n",
    "Example: INSERT INTO Customers (name, email) VALUES ('John Doe', 'johndoe@example.com');\n",
    "\n",
    "2) UPDATE:\n",
    "\n",
    "Used to modify existing records in a table.                     \n",
    "Example: UPDATE Customers SET email = 'newemail@example.com' WHERE id = 1;\n",
    "\n",
    "3) DELETE:\n",
    "\n",
    "Used to delete existing records from a table.                 \n",
    "Example: DELETE FROM Customers WHERE id = 1;"
   ]
  },
  {
   "cell_type": "code",
   "execution_count": null,
   "id": "5ebd533c-e4e3-4ee2-b694-0a3da7ff4ccd",
   "metadata": {},
   "outputs": [],
   "source": []
  },
  {
   "cell_type": "markdown",
   "id": "3f16a63d-7ebc-463b-8583-d706d3cafeeb",
   "metadata": {},
   "source": [
    "Q4. What is DQL? Explain SELECT with an example.\n",
    "\n",
    "DQL stands for Data Query Language. It is a subset of SQL (Structured Query Language) used to query and retrieve data from a database. The most commonly used DQL statement is SELECT, which allows you to retrieve specific columns or rows from one or more database tables.\n",
    "\n",
    "SELECT:\n",
    "\n",
    "Used to retrieve data from a database table or tables.\n",
    "Specifies the columns you want to retrieve and the table(s) from which to retrieve the data.                         \n",
    "Example- SELECT * FROM TABLE_NAME"
   ]
  },
  {
   "cell_type": "code",
   "execution_count": null,
   "id": "8ed196b2-0d54-4ec4-aba3-03c7f651b076",
   "metadata": {},
   "outputs": [],
   "source": []
  },
  {
   "cell_type": "markdown",
   "id": "b512ea06-257c-4bfb-964f-d509e9c1b267",
   "metadata": {},
   "source": [
    "Q5. Explain Primary Key and Foreign Key.\n",
    "\n",
    "*Primary Key-- \n",
    "\n",
    "-The primary key is a unique or non-null key that uniquely identifies every record in a table or relation.                 \n",
    "-The primary key column can't store duplicate values.               \n",
    "-Only one primary key can be defined for a table.               \n",
    "-Primary Key constraints are used to enforce the uniqueness and non-nullability of the primary key column(s).                   \n",
    "\n",
    "Example:                 \n",
    "Consider a table called \"Employees\" with columns such as EmployeeID, FirstName, LastName, and Age. If the EmployeeID column is designated as the primary key, it will have a unique value for each employee in the table. No two employees can have the same EmployeeID.\n",
    "\n",
    "\n",
    "*Foreign Key--\n",
    "\n",
    "-A Foreign Key is a column or a set of columns in a table that refers to the Primary Key of another table.              \n",
    "-It establishes a relationship between two tables by enforcing referential integrity.                                \n",
    "-Foreign Key constraints are used to maintain data consistency and ensure that the values in the Foreign Key column(s) match the values in the referenced Primary Key column(s).                               \n",
    "\n",
    "Example:\n",
    "Consider two tables, \"Orders\" and \"Customers.\" The Orders table may have a column called \"CustomerID,\" which is a Foreign Key that references the \"CustomerID\" Primary Key column in the Customers table. This Foreign Key relationship ensures that any value in the CustomerID column of the Orders table must exist in the CustomerID column of the Customers table, thereby maintaining the integrity of the data.\n",
    "\n",
    "In summary, the Primary Key uniquely identifies each record in a table, while the Foreign Key establishes relationships between tables by referencing the Primary Key of another table."
   ]
  },
  {
   "cell_type": "code",
   "execution_count": null,
   "id": "f196a128-b8b6-46e2-ad2b-0b4c358bac46",
   "metadata": {},
   "outputs": [],
   "source": []
  },
  {
   "cell_type": "markdown",
   "id": "0b119169-7123-473d-8f59-5fe9dfa82d1a",
   "metadata": {},
   "source": [
    "Q6. Write a python code to connect MySQL to python. Explain the cursor() and execute() method.\n",
    "\n",
    "import mysql.connector\n",
    "\n",
    "mydb = mysql.connector.connect(\n",
    "       host=\"localhost\",\n",
    "       user=\"xyz\",\n",
    "       password=\"******\" \n",
    ")\n",
    "\n",
    "mycursor = mydb.cursor()\n",
    "mycursor.execute(\"query\")\n",
    "\n",
    "*cursor()--                 \n",
    "this method is used to create a cursor object, which allows you to execute SQL statements and interact with the database. The cursor serves as a control structure that enables you to navigate and manipulate the result set returned from the executed queries.\n",
    "\n",
    "*execute()--                        \n",
    "this method is used to execute SQL statements or database commands through the cursor. It takes an SQL query or command as a parameter and performs the corresponding operation on the database."
   ]
  },
  {
   "cell_type": "code",
   "execution_count": null,
   "id": "18156183-9378-4862-970a-f0aafbb05424",
   "metadata": {},
   "outputs": [],
   "source": []
  },
  {
   "cell_type": "markdown",
   "id": "b061a16b-cb41-4310-a5bd-cef5d7992235",
   "metadata": {},
   "source": [
    "Q7. Give the order of execution of SQL clauses in an SQL query.\n",
    "\n"
   ]
  }
 ],
 "metadata": {
  "kernelspec": {
   "display_name": "Python 3 (ipykernel)",
   "language": "python",
   "name": "python3"
  },
  "language_info": {
   "codemirror_mode": {
    "name": "ipython",
    "version": 3
   },
   "file_extension": ".py",
   "mimetype": "text/x-python",
   "name": "python",
   "nbconvert_exporter": "python",
   "pygments_lexer": "ipython3",
   "version": "3.10.8"
  }
 },
 "nbformat": 4,
 "nbformat_minor": 5
}
