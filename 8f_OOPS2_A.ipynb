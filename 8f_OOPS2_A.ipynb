{
 "cells": [
  {
   "cell_type": "markdown",
   "id": "97c181df-4a5a-4d8b-b68b-6e58655f9c10",
   "metadata": {},
   "source": [
    "Q1. What is Abstraction in OOps? Explain with an example.\n",
    "\n",
    "Abstarction is nothing but a process of handling complexity by hiding unnecessary information from the user. that means it only displays only the relevant attributes of objects and hides the unnecessary details. \n",
    "\n",
    "real time scenario- Your car is a great example of abstraction. You can start a car by turning the key or pressing the start button. You don't need to know how the engine is getting started, what all components your car has. The car internal implementation and complex logic is completely hidden from the user.\n",
    "\n",
    "example as below:"
   ]
  },
  {
   "cell_type": "code",
   "execution_count": 2,
   "id": "6bb49500-42fe-4103-ab23-59bc0464f994",
   "metadata": {},
   "outputs": [],
   "source": [
    "import abc\n",
    "class main:\n",
    "    \n",
    "    @abc.abstractmethod\n",
    "    def stud_details(self):\n",
    "        pass\n",
    "    \n",
    "    @abc.abstractmethod\n",
    "    def stud_assignment(self):\n",
    "        pass\n",
    "    \n",
    "    @abc.abstractmethod\n",
    "    def stud_marks(self):\n",
    "        pass"
   ]
  },
  {
   "cell_type": "code",
   "execution_count": 3,
   "id": "e0cdaf68-6f15-477d-99ac-e44641ea8b2d",
   "metadata": {},
   "outputs": [],
   "source": [
    "class student_detail(main):\n",
    "    \n",
    "    def stud_details(self):\n",
    "        return \"this is a method for taking students details\"\n",
    "    \n",
    "    def stud_assignment(self):\n",
    "        return \" this is assignm details\""
   ]
  },
  {
   "cell_type": "code",
   "execution_count": 7,
   "id": "66bffd82-7e43-412f-a4a7-fc76d562c2a2",
   "metadata": {},
   "outputs": [],
   "source": [
    "class data_sci_masters(main):\n",
    "    \n",
    "    def stud_details(self):\n",
    "        return \"this is a method for taking students details for ds\"\n",
    "    \n",
    "    def stud_assignment(self):\n",
    "        return \" this will give you assignm details \""
   ]
  },
  {
   "cell_type": "code",
   "execution_count": 8,
   "id": "8996e98b-e976-4e61-b1e9-3a341cb6c7dc",
   "metadata": {},
   "outputs": [],
   "source": [
    "dsm = data_sci_masters()"
   ]
  },
  {
   "cell_type": "code",
   "execution_count": 9,
   "id": "04b4ade8-e1cc-44e7-9466-40cd7dcd69a8",
   "metadata": {},
   "outputs": [
    {
     "data": {
      "text/plain": [
       "'this is a method for taking students details for ds'"
      ]
     },
     "execution_count": 9,
     "metadata": {},
     "output_type": "execute_result"
    }
   ],
   "source": [
    "dsm.stud_details()"
   ]
  },
  {
   "cell_type": "code",
   "execution_count": 11,
   "id": "e0bc0480-e0db-4a2d-8071-14827036730e",
   "metadata": {},
   "outputs": [],
   "source": [
    "sd = student_detail()"
   ]
  },
  {
   "cell_type": "code",
   "execution_count": 12,
   "id": "eccdb078-35b4-4cca-825e-6b5086459c4c",
   "metadata": {},
   "outputs": [
    {
     "data": {
      "text/plain": [
       "'this is a method for taking students details'"
      ]
     },
     "execution_count": 12,
     "metadata": {},
     "output_type": "execute_result"
    }
   ],
   "source": [
    "sd.stud_details()"
   ]
  },
  {
   "cell_type": "markdown",
   "id": "0b25a700-afe3-415a-ab16-659187346bc1",
   "metadata": {},
   "source": [
    "Q2. Differentiate between Abstraction and Encapsulation. Explain with an example.\n",
    "\n",
    "Abstraction is a method which helps to hide the unwanted data from the user where implementation details will be hidden only function details will be available to the user end, while data encapsulation is a method which helps to hide data using a single entity.\n",
    "\n",
    "example--- lets take an example of interaction between a user and a mobile phone. Encapsulation is a technique for \"information concealment,\" so you don't \"need to know the inside workings of the mobile phone to operate\" it. The encapsulation ensures that the internal components are protected and accessed only through well-defined interfaces or methods.\n",
    "\n",
    "where, let's consider the concept of abstraction in the context of a car. When you drive a car, you are not concerned about the intricate details of how the engine works, how the transmission shifts gears, or how the suspension system operates. Instead, you interact with the car through a high-level interface or abstraction. You use the steering wheel to control the direction, the pedals to control the speed, and various switches and controls to operate lights, wipers, and other features. Abstraction focuses on providing a simplified and high-level interface to interact with an object or system, hiding unnecessary complexities."
   ]
  },
  {
   "cell_type": "code",
   "execution_count": null,
   "id": "19f6e619-af71-42af-9f88-dc4db7f92f5e",
   "metadata": {},
   "outputs": [],
   "source": []
  },
  {
   "cell_type": "markdown",
   "id": "1fe87b6b-83d0-4321-8102-b243880966c4",
   "metadata": {},
   "source": [
    "Q3. What is abc module in python? Why is it used?"
   ]
  },
  {
   "cell_type": "markdown",
   "id": "1328b107-229b-41d7-84f4-b946638a7bef",
   "metadata": {},
   "source": [
    "1. abc module is an abstract base class which is used as a blueprint for other classes/ provides mechanisms for defining abstract base classes in Python\n",
    "2. It allows you to define abstract base classes and abstract methods, which are methods that have no implementation in the base class but must be implemented by derived classes. \n",
    "3. The abc module is particularly useful when designing complex class hierarchies, implementing interfaces, and enforcing specific behaviors across related classes.\n",
    "4. It promotes code modularity, improves code organization, and helps in building flexible and maintainable software systems."
   ]
  },
  {
   "cell_type": "code",
   "execution_count": null,
   "id": "1d853aec-a2c7-4e23-bc34-92e80c0fd364",
   "metadata": {},
   "outputs": [],
   "source": []
  },
  {
   "cell_type": "markdown",
   "id": "9f7e5906-7f62-42e8-bf65-14cdc03b9437",
   "metadata": {},
   "source": [
    "Q4. How can we achieve data abstraction?\n",
    "\n",
    "Data abstraction can be achieved in Python through the use of classes and objects. It can be done by creating abstract classes and inheriting them later\n"
   ]
  },
  {
   "cell_type": "code",
   "execution_count": null,
   "id": "f44650eb-bf67-451a-81fb-922ad99c114b",
   "metadata": {},
   "outputs": [],
   "source": []
  },
  {
   "cell_type": "markdown",
   "id": "175252d4-bca1-40f3-a311-23e4389c9780",
   "metadata": {},
   "source": [
    "Q5. Can we create an instance of an abstract class? Explain your answer.\n",
    "\n",
    "No, we cannot create an instance of an abstract class in Python. An abstract class is a class that is meant to be inherited from and serves as a blueprint for creating concrete subclasses. It is designed to be incomplete and contains one or more abstract methods that must be implemented by its subclasses."
   ]
  },
  {
   "cell_type": "code",
   "execution_count": null,
   "id": "84768542-1304-4fd1-889a-95c81a507559",
   "metadata": {},
   "outputs": [],
   "source": []
  }
 ],
 "metadata": {
  "kernelspec": {
   "display_name": "Python 3 (ipykernel)",
   "language": "python",
   "name": "python3"
  },
  "language_info": {
   "codemirror_mode": {
    "name": "ipython",
    "version": 3
   },
   "file_extension": ".py",
   "mimetype": "text/x-python",
   "name": "python",
   "nbconvert_exporter": "python",
   "pygments_lexer": "ipython3",
   "version": "3.10.8"
  }
 },
 "nbformat": 4,
 "nbformat_minor": 5
}
