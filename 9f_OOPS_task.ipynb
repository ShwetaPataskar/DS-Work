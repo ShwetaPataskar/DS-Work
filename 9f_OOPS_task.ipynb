{
 "cells": [
  {
   "cell_type": "markdown",
   "id": "7f8c2a74-dbf6-469f-97cc-0145582fc124",
   "metadata": {},
   "source": [
    "Q1, Create a vehicle class with an init method having instance variables as name_of_vehicle, max_speed\n",
    "and average_of_vehicle."
   ]
  },
  {
   "cell_type": "code",
   "execution_count": 2,
   "id": "3a8225a1-92ef-4e79-8980-5554189554eb",
   "metadata": {},
   "outputs": [],
   "source": [
    "class vehicle:\n",
    "    \n",
    "    def __init__(self,name_of_vehicle,max_speed,average_of_vehicle):\n",
    "        \n",
    "        self.name_of_vehicle = name_of_vehicle\n",
    "        self.max_speed = max_speed\n",
    "        self.average_of_vehicle = average_of_vehicle\n",
    "        \n",
    "    "
   ]
  },
  {
   "cell_type": "markdown",
   "id": "884c6719-4193-40e1-9c1b-06ce6cebcb3f",
   "metadata": {},
   "source": [
    "Q2. Create a child class car from the vehicle class created in Que 1, which will inherit the vehicle class.\n",
    "Create a method named seating_capacity which takes capacity as an argument and returns the name of\n",
    "the vehicle and its seating capacity."
   ]
  },
  {
   "cell_type": "code",
   "execution_count": 5,
   "id": "951cbe46-c366-43d4-92d1-380b78ccd985",
   "metadata": {},
   "outputs": [],
   "source": [
    "class car(vehicle):\n",
    "    \n",
    "    def seating_capacity(self, seating_capacity):\n",
    "        self.seating_capacity = seating_capacity\n",
    "        return f\"The {self.name_of_vehicle} has seating capacity of {self.seating_capacity} people\" "
   ]
  },
  {
   "cell_type": "code",
   "execution_count": 6,
   "id": "9cbfd266-3bf2-4140-a369-326ff5d44106",
   "metadata": {},
   "outputs": [
    {
     "name": "stdout",
     "output_type": "stream",
     "text": [
      "The toyota has seating capacity of 5 people\n"
     ]
    }
   ],
   "source": [
    "car1 = car(\"toyota\",\"180\",\"40\")\n",
    "print(car1.seating_capacity(5))"
   ]
  },
  {
   "cell_type": "markdown",
   "id": "1d572d01-8e26-4fe3-8738-d79e6e06e9d5",
   "metadata": {},
   "source": [
    "Q3. What is multiple inheritance? Write a python code to demonstrate multiple inheritance."
   ]
  },
  {
   "cell_type": "markdown",
   "id": "54e404d4-52d5-4a18-a072-4755e1b2e71c",
   "metadata": {},
   "source": [
    "Multiple inheritance in Python allows a class to inherit attributes and methods from multiple parent classes"
   ]
  },
  {
   "cell_type": "code",
   "execution_count": 7,
   "id": "200af011-c52c-419b-88fc-6af029fd8ddc",
   "metadata": {},
   "outputs": [],
   "source": [
    "class class1:\n",
    "    \n",
    "    def test_class1(self):\n",
    "        return \"this is a class1\"\n",
    "    \n",
    "class class2:\n",
    "    def test_class2(self):\n",
    "        return \"this is a class2\"\n",
    "    \n",
    "class class3(class1,class2):\n",
    "    pass"
   ]
  },
  {
   "cell_type": "code",
   "execution_count": 8,
   "id": "6fb6eefb-1ac4-4797-812c-98ae48c20ca5",
   "metadata": {},
   "outputs": [],
   "source": [
    "obj_class3 = class3()"
   ]
  },
  {
   "cell_type": "code",
   "execution_count": 10,
   "id": "40a9e616-5837-4f71-8c50-42352ceddeac",
   "metadata": {},
   "outputs": [
    {
     "data": {
      "text/plain": [
       "'this is a class2'"
      ]
     },
     "execution_count": 10,
     "metadata": {},
     "output_type": "execute_result"
    }
   ],
   "source": [
    "obj_class3.test_class2()"
   ]
  },
  {
   "cell_type": "code",
   "execution_count": 11,
   "id": "f120d30d-e75e-4eed-883e-d8f4edfc7017",
   "metadata": {},
   "outputs": [
    {
     "data": {
      "text/plain": [
       "'this is a class1'"
      ]
     },
     "execution_count": 11,
     "metadata": {},
     "output_type": "execute_result"
    }
   ],
   "source": [
    "obj_class3.test_class1()"
   ]
  },
  {
   "cell_type": "markdown",
   "id": "4fdf4cc7-7dbf-4604-a70f-fc4cba728037",
   "metadata": {},
   "source": [
    "Q4. What are getter and setter in python? Create a class and create a getter and a setter method in this\n",
    "class.\n",
    "\n",
    "In Python, getter and setter methods are used to access and modify the attributes (variables) of a class. They provide an interface to read and update the values of private attributes in a controlled manner."
   ]
  },
  {
   "cell_type": "code",
   "execution_count": 13,
   "id": "3fc36ce1-d479-4fca-bb64-7ba2da7201ed",
   "metadata": {},
   "outputs": [
    {
     "name": "stdout",
     "output_type": "stream",
     "text": [
      "John\n",
      "Alice\n",
      "25\n",
      "Invalid age value\n",
      "25\n"
     ]
    }
   ],
   "source": [
    "class Person:\n",
    "    def __init__(self, name, age):\n",
    "        self._name = name\n",
    "        self._age = age\n",
    "\n",
    "    # Getter method for name attribute\n",
    "    def get_name(self):\n",
    "        return self._name\n",
    "\n",
    "    # Setter method for name attribute\n",
    "    def set_name(self, name):\n",
    "        self._name = name\n",
    "\n",
    "    # Getter method for age attribute\n",
    "    def get_age(self):\n",
    "        return self._age\n",
    "\n",
    "    # Setter method for age attribute\n",
    "    def set_age(self, age):\n",
    "        if age >= 0:\n",
    "            self._age = age\n",
    "        else:\n",
    "            print(\"Invalid age value\")\n",
    "\n",
    "# Create an instance of Person\n",
    "person = Person(\"John\", 25)\n",
    "\n",
    "# Get the name using the getter method\n",
    "print(person.get_name())  \n",
    "\n",
    "# Set a new name using the setter method\n",
    "person.set_name(\"Alice\")\n",
    "\n",
    "# Get the updated name\n",
    "print(person.get_name()) \n",
    "\n",
    "# Get the age using the getter method\n",
    "print(person.get_age())  \n",
    "\n",
    "# Set an invalid age using the setter method\n",
    "person.set_age(-5)  \n",
    "\n",
    "# Get the age (unchanged)\n",
    "print(person.get_age()) "
   ]
  },
  {
   "cell_type": "code",
   "execution_count": null,
   "id": "e7c371a6-a732-475c-8e5b-ae26c83504ef",
   "metadata": {},
   "outputs": [],
   "source": []
  }
 ],
 "metadata": {
  "kernelspec": {
   "display_name": "Python 3 (ipykernel)",
   "language": "python",
   "name": "python3"
  },
  "language_info": {
   "codemirror_mode": {
    "name": "ipython",
    "version": 3
   },
   "file_extension": ".py",
   "mimetype": "text/x-python",
   "name": "python",
   "nbconvert_exporter": "python",
   "pygments_lexer": "ipython3",
   "version": "3.10.8"
  }
 },
 "nbformat": 4,
 "nbformat_minor": 5
}
