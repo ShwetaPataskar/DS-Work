{
 "cells": [
  {
   "cell_type": "code",
   "execution_count": 1,
   "id": "fbf5a12e-0fec-48f6-9115-9cc7f6c1031f",
   "metadata": {},
   "outputs": [
    {
     "name": "stdin",
     "output_type": "stream",
     "text": [
      "Enter marks:  99\n"
     ]
    },
    {
     "name": "stdout",
     "output_type": "stream",
     "text": [
      "Your garde is A\n"
     ]
    }
   ],
   "source": [
    "#Q1.\n",
    "percentage = int(input(\"Enter marks: \"))\n",
    "if percentage>90:\n",
    "    print(\"Your garde is A\")\n",
    "elif percentage>80 and percentage<=90:\n",
    "    print(\"Your garde is B\")\n",
    "elif percentage>=60 and percentage<=80:\n",
    "    print(\"Your garde is C\")\n",
    "else:\n",
    "    print(\"Your garde is D\")"
   ]
  },
  {
   "cell_type": "code",
   "execution_count": 2,
   "id": "2b6ef420-466d-45ba-a5bc-f53a7c756a47",
   "metadata": {},
   "outputs": [
    {
     "name": "stdin",
     "output_type": "stream",
     "text": [
      "Enter cost price:  200000\n"
     ]
    },
    {
     "name": "stdout",
     "output_type": "stream",
     "text": [
      "You need to pay 15% tax\n"
     ]
    }
   ],
   "source": [
    "#Q2.\n",
    "c_price = int(input(\"Enter cost price: \"))\n",
    "\n",
    "if c_price >100000:\n",
    "    print(\"You need to pay 15% tax\")\n",
    "elif c_price >50000 and c_price <=100000:\n",
    "    print(\"You need to pay 10% tax\")\n",
    "else:\n",
    "    print(\"You need to pay 5% tax\")"
   ]
  },
  {
   "cell_type": "code",
   "execution_count": 4,
   "id": "594b5ab2-8f7e-435b-9dcb-835ca429ad0b",
   "metadata": {},
   "outputs": [
    {
     "name": "stdin",
     "output_type": "stream",
     "text": [
      "Enter city:  Agra\n"
     ]
    },
    {
     "name": "stdout",
     "output_type": "stream",
     "text": [
      "Taj Mahal\n"
     ]
    }
   ],
   "source": [
    "#Q3.\n",
    "city = str(input(\"Enter city: \"))\n",
    "if city=='Delhi':\n",
    "    print(\"Red Fort\")\n",
    "elif city=='Agra':\n",
    "    print(\"Taj Mahal\")\n",
    "elif city=='Jaipur':\n",
    "    print(\"Jal Mahal\")"
   ]
  },
  {
   "cell_type": "markdown",
   "id": "90dc1feb-5b57-4717-992a-84e104ff8f97",
   "metadata": {},
   "source": [
    "Q4. Check how many times a given number can be divisible by 3 before it is less than or equal to 10"
   ]
  },
  {
   "cell_type": "code",
   "execution_count": 5,
   "id": "ea9b97bd-6fe3-4f44-8ddb-32a2c2f4be8f",
   "metadata": {},
   "outputs": [
    {
     "name": "stdin",
     "output_type": "stream",
     "text": [
      "Enter a number:  50\n"
     ]
    },
    {
     "name": "stdout",
     "output_type": "stream",
     "text": [
      "Number of times divisible by 3 before becoming <= 10: 2\n"
     ]
    }
   ],
   "source": [
    "num = int(input(\"Enter a number: \"))\n",
    "count=0\n",
    "\n",
    "while num>10:\n",
    "    num/=3\n",
    "    count+=1\n",
    "\n",
    "print(\"Number of times divisible by 3 before becoming <= 10:\", count)"
   ]
  },
  {
   "cell_type": "markdown",
   "id": "d5781584-7831-4f6e-9845-33868fdcae0e",
   "metadata": {},
   "source": [
    "Q5. Why and when to use while loop in python, give a detailed description with example\n",
    "\n",
    "Python while loop is used to run a block code until a certain condition is met. Here, A while loop evaluates the condition. If the condition evaluates to True , the code inside the while loop is executed. example as below,"
   ]
  },
  {
   "cell_type": "code",
   "execution_count": 6,
   "id": "e34b5999-5dc3-4f8e-8cac-a8eff30f7408",
   "metadata": {},
   "outputs": [
    {
     "name": "stdout",
     "output_type": "stream",
     "text": [
      "Hello World\n",
      "Hello World\n",
      "Hello World\n"
     ]
    }
   ],
   "source": [
    "count = 0\n",
    "while (count < 3):\n",
    "    count = count + 1\n",
    "    print(\"Hello World\")"
   ]
  },
  {
   "cell_type": "markdown",
   "id": "d3c9e972-78f0-4b44-a59f-634e9637bef7",
   "metadata": {},
   "source": [
    "Q6. Use nested while loop to print 3 different pattern"
   ]
  },
  {
   "cell_type": "code",
   "execution_count": 8,
   "id": "a09c635e-b166-4cf0-b110-8280b90e5362",
   "metadata": {},
   "outputs": [
    {
     "name": "stdout",
     "output_type": "stream",
     "text": [
      "Pattern 1:\n",
      "* \n",
      "* * \n",
      "* * * \n",
      "* * * * \n",
      "* * * * * \n"
     ]
    }
   ],
   "source": [
    "#pattern1\n",
    "print(\"Pattern 1:\")\n",
    "row = 1\n",
    "while row <= 5:\n",
    "    col = 1\n",
    "    while col <= row:\n",
    "        print(\"*\", end=\" \")\n",
    "        col += 1\n",
    "    print()\n",
    "    row += 1"
   ]
  },
  {
   "cell_type": "code",
   "execution_count": 9,
   "id": "43bde679-f3a9-42aa-88db-343076633159",
   "metadata": {},
   "outputs": [
    {
     "name": "stdout",
     "output_type": "stream",
     "text": [
      "Pattern 2:\n",
      "1 2 3 4 5 \n",
      "1 2 3 4 \n",
      "1 2 3 \n",
      "1 2 \n",
      "1 \n"
     ]
    }
   ],
   "source": [
    "# Pattern 2\n",
    "print(\"Pattern 2:\")\n",
    "row = 5\n",
    "while row >= 1:\n",
    "    col = 1\n",
    "    while col <= row:\n",
    "        print(col, end=\" \")\n",
    "        col += 1\n",
    "    print()\n",
    "    row -= 1"
   ]
  },
  {
   "cell_type": "code",
   "execution_count": 10,
   "id": "768b95a8-843c-492b-afed-cfa45927f4f6",
   "metadata": {},
   "outputs": [
    {
     "name": "stdout",
     "output_type": "stream",
     "text": [
      "Pattern 3:\n",
      "        1 \n",
      "      2 1 \n",
      "    3 2 1 \n",
      "  4 3 2 1 \n",
      "5 4 3 2 1 \n"
     ]
    }
   ],
   "source": [
    "# Pattern 3\n",
    "print(\"Pattern 3:\")\n",
    "row = 1\n",
    "while row <= 5:\n",
    "    col = 5\n",
    "    while col >= 1:\n",
    "        if col > row:\n",
    "            print(\" \", end=\" \")\n",
    "        else:\n",
    "            print(col, end=\" \")\n",
    "        col -= 1\n",
    "    print()\n",
    "    row += 1"
   ]
  },
  {
   "cell_type": "markdown",
   "id": "f69cb800-4d3c-4359-92b4-0abf9271b966",
   "metadata": {},
   "source": [
    "Q7. Reverse a while loop to display numbers from 10 to 1"
   ]
  },
  {
   "cell_type": "code",
   "execution_count": 11,
   "id": "5d883f11-5e80-4b90-b2c3-ca7fa50026cc",
   "metadata": {},
   "outputs": [
    {
     "name": "stdout",
     "output_type": "stream",
     "text": [
      "10\n",
      "9\n",
      "8\n",
      "7\n",
      "6\n",
      "5\n",
      "4\n",
      "3\n",
      "2\n",
      "1\n"
     ]
    }
   ],
   "source": [
    "number=10\n",
    "while number>=1:\n",
    "    print(number)\n",
    "    number-=1"
   ]
  },
  {
   "cell_type": "markdown",
   "id": "06141ae4-baf9-48d2-9d35-45e0ba4e5829",
   "metadata": {},
   "source": [
    "Q8. Reverse a while loop to display numbers from 10 to 1"
   ]
  },
  {
   "cell_type": "code",
   "execution_count": 12,
   "id": "260ac507-b0b9-4f77-91c4-9c3e592eb12c",
   "metadata": {},
   "outputs": [
    {
     "name": "stdout",
     "output_type": "stream",
     "text": [
      "10\n",
      "9\n",
      "8\n",
      "7\n",
      "6\n",
      "5\n",
      "4\n",
      "3\n",
      "2\n",
      "1\n"
     ]
    }
   ],
   "source": [
    "number=10\n",
    "while number>=1:\n",
    "    print(number)\n",
    "    number-=1"
   ]
  },
  {
   "cell_type": "code",
   "execution_count": null,
   "id": "1d37200d-d2b0-4552-99be-bb8d027c6f4f",
   "metadata": {},
   "outputs": [],
   "source": []
  }
 ],
 "metadata": {
  "kernelspec": {
   "display_name": "Python 3 (ipykernel)",
   "language": "python",
   "name": "python3"
  },
  "language_info": {
   "codemirror_mode": {
    "name": "ipython",
    "version": 3
   },
   "file_extension": ".py",
   "mimetype": "text/x-python",
   "name": "python",
   "nbconvert_exporter": "python",
   "pygments_lexer": "ipython3",
   "version": "3.10.8"
  }
 },
 "nbformat": 4,
 "nbformat_minor": 5
}
