{
 "cells": [
  {
   "cell_type": "markdown",
   "id": "8676ed69-0564-462c-875d-755efc63b375",
   "metadata": {},
   "source": [
    "Q1. Create a Pandas Series that contains the following data: 4, 8, 15, 16, 23, and 42. Then, print the series."
   ]
  },
  {
   "cell_type": "code",
   "execution_count": 2,
   "id": "7cdc77fc-72cd-453a-958e-71c736f340a0",
   "metadata": {},
   "outputs": [
    {
     "name": "stdout",
     "output_type": "stream",
     "text": [
      "0     4\n",
      "1     8\n",
      "2    15\n",
      "3    16\n",
      "4    23\n",
      "5    42\n",
      "dtype: int64\n"
     ]
    }
   ],
   "source": [
    "import pandas as pd\n",
    "a= [4,8,15,16,23,42]\n",
    "\n",
    "data = pd.Series(a)\n",
    "print(data)"
   ]
  },
  {
   "cell_type": "markdown",
   "id": "3a8fdd10-4b14-4464-8913-c98d3300230a",
   "metadata": {},
   "source": [
    "Q2. Create a variable of list type containing 10 elements in it, and apply pandas.Series function on the\n",
    "variable print it."
   ]
  },
  {
   "cell_type": "code",
   "execution_count": 3,
   "id": "c12cad06-7f61-4fdd-a962-c1cc21989166",
   "metadata": {},
   "outputs": [
    {
     "name": "stdout",
     "output_type": "stream",
     "text": [
      "0     1\n",
      "1     2\n",
      "2     3\n",
      "3     4\n",
      "4     5\n",
      "5     6\n",
      "6     7\n",
      "7     8\n",
      "8     9\n",
      "9    10\n",
      "dtype: int64\n"
     ]
    }
   ],
   "source": [
    "import pandas as pd\n",
    "\n",
    "my_list=[1,2,3,4,5,6,7,8,9,10]\n",
    "series= pd.Series(my_list)\n",
    "print(series)"
   ]
  },
  {
   "cell_type": "markdown",
   "id": "28c2887e-c6df-4273-8f0c-5dbf7dd6832c",
   "metadata": {},
   "source": [
    "Q3. Create a Pandas DataFrame that contains the following data:\n",
    "\n",
    "# Name               Age                   Gender\n",
    "# Alice              25                    Female       \n",
    "# Bob                30                    Male\n",
    "# Claire             27                    Female\n",
    "\n",
    "print the dataframe"
   ]
  },
  {
   "cell_type": "code",
   "execution_count": 5,
   "id": "d04572e6-b327-4fed-93d6-a316db494aa4",
   "metadata": {},
   "outputs": [
    {
     "name": "stdout",
     "output_type": "stream",
     "text": [
      "     Name  Age  Gender\n",
      "0   Alice   25  Female\n",
      "1     Bob   30    Male\n",
      "2  Claire   27  Female\n"
     ]
    }
   ],
   "source": [
    "import pandas as pd\n",
    "\n",
    "data1 = { \"Name\" : [\"Alice\",\"Bob\",\"Claire\"],\n",
    "         \"Age\" : [25, 30 , 27],\n",
    "         \"Gender\":[\"Female\",\"Male\",\"Female\"] \n",
    "        }\n",
    "\n",
    "df = pd.DataFrame(data1)\n",
    "print(df)"
   ]
  },
  {
   "cell_type": "code",
   "execution_count": null,
   "id": "c0d091d5-0c51-414f-8dfe-5dbcced38cc2",
   "metadata": {},
   "outputs": [],
   "source": []
  },
  {
   "cell_type": "markdown",
   "id": "fb7663b0-29cb-4acd-a2d5-e43f178d0cad",
   "metadata": {},
   "source": [
    "Q4. What is ‘DataFrame’ in pandas and how is it different from pandas.series? Explain with an example.\n",
    "\n",
    "DataFrame-- Pandas DataFrame is a 2-d array or table with rows and columns that can hold data of different types (e.g., numbers, strings, etc.) in a tabular format.                                       \n",
    "Each column in a DataFrame represents a variable, and each row represents an observation or data point.                             \n",
    "\n",
    "Series-- Pandas Series is a 1-d labeled array that can hold data of a single data type.                                      \n",
    "A Series is like a single column of data with an associated label, called an index.                            "
   ]
  },
  {
   "cell_type": "code",
   "execution_count": 13,
   "id": "0bec0036-a69e-4022-8bd3-02534d1c8900",
   "metadata": {},
   "outputs": [
    {
     "name": "stdout",
     "output_type": "stream",
     "text": [
      "DataFrame:\n",
      "    Name  Age Country\n",
      "0  John   25     USA\n",
      "1  Emma   30  Canada\n",
      "2   Tom   35      UK\n",
      "\n",
      "Series:\n",
      " 0    25\n",
      "1    30\n",
      "2    35\n",
      "dtype: int64\n"
     ]
    }
   ],
   "source": [
    "import pandas as pd\n",
    "\n",
    "data2 ={'Name': ['John', 'Emma', 'Tom'],\n",
    "        'Age': [25, 30, 35],\n",
    "        'Country': ['USA', 'Canada', 'UK']}\n",
    "\n",
    "df2 = pd.DataFrame(data2)\n",
    "\n",
    "ages=pd.Series([25,30,35])\n",
    "\n",
    "print(\"DataFrame:\\n\",df2)\n",
    "print()\n",
    "print(\"Series:\\n\",ages)"
   ]
  },
  {
   "cell_type": "markdown",
   "id": "d9db8e7c-db5e-49f9-af38-f945fa322cda",
   "metadata": {},
   "source": [
    "as per above result,  the DataFrame is a tabular structure with multiple columns, while the Series is a single column with associated index labels."
   ]
  },
  {
   "cell_type": "code",
   "execution_count": null,
   "id": "a490b638-cedd-4f81-ad5f-b9b5cbb9d7ec",
   "metadata": {},
   "outputs": [],
   "source": []
  },
  {
   "cell_type": "markdown",
   "id": "21223b3c-12b3-45ef-bcf7-d232281c95ba",
   "metadata": {},
   "source": [
    "Q5. What are some common functions you can use to manipulate data in a Pandas DataFrame? Can\n",
    "you give an example of when you might use one of these functions?"
   ]
  },
  {
   "cell_type": "markdown",
   "id": "ecf315f3-064a-47fd-ad16-3bb3f1d604e4",
   "metadata": {},
   "source": [
    "1. head() --> This function allow you to view the first few rows of DataFrame    \n",
    "ex. --> sales_data.head()\n",
    "\n",
    "2. tail() --> This function allow you to view the last few rows of DataFrame\n",
    "\n",
    "ex. --> sales_data.tail()\n",
    "\n",
    "3. info() --> this function provides a concise summary of the DataFrame. It helps in understanding the structure of the data.                             \n",
    "ex. --> sales_data.info()\n",
    "\n",
    "4. describe() --> This function generates descriptive statistics of the numeric columns in the DataFrame, such as count, mean, standard deviation, minimum, maximum, and quartiles.                                       \n",
    "ex. -->  sales_data.describe()\n",
    "\n",
    "5. unique() --> it returns an array of unique values in a column.this function is useful for exploring categorical or discrete data.                                       \n",
    "ex. --> unique_products = sales_data['Product'].unique()\n",
    "\n",
    "6. nunique() --> returns the count of unique values. this function is useful for exploring categorical or discrete data.                                  \n",
    "ex. --> num_customers = sales_data['Customer'].nunique()               \n",
    "\n",
    "7. sort_values() --> sorts the DataFrame based on one or more columns. It allows you to arrange the data in ascending or descending order, facilitating analysis and visualization.                                              \n",
    "ex. --> sorted_data = sales_data.sort_values('Sales', ascending=False)\n",
    "\n",
    "8. groupby() --> it is used for grouping the data based on one or more columns. It allows you to perform aggregations and transformations on grouped data, such as calculating sum, mean, or count within each group.    \n",
    "ex. --> sales_by_region = sales_data.groupby('Region')['Sales'].sum()         \n",
    "\n",
    "9. fillna() --> it is used to fill/ replace missing values in the DataFrame with a specified value or a method like forward fill or backward fill. It helps in handling missing data before analysis.                                       \n",
    "ex. -->                                                       \n",
    "import pandas as pd\n",
    "\n",
    "df = pd.read_csv('data.csv')\n",
    "\n",
    "newdf = df.fillna(222222)\n",
    "\n",
    "10. dropna() --> removes missing values (rows/columns) from DataFrame. It allows you to drop rows or columns that contain any missing values or to specify a subset of columns to consider for removing missing values.          \n",
    "\n",
    "ex. --> newdf = df.dropna(axis=0) or df_dropped_columns = df.dropna(axis=1)"
   ]
  },
  {
   "cell_type": "code",
   "execution_count": null,
   "id": "55f008ec-5c36-42b0-812a-b37358e1cab0",
   "metadata": {},
   "outputs": [],
   "source": []
  },
  {
   "cell_type": "markdown",
   "id": "1a3e0576-11c5-414b-b0b0-19318c8460f9",
   "metadata": {},
   "source": [
    "Q6. Which of the following is mutable in nature Series, DataFrame, Panel?\n",
    "\n",
    "1. A Series in Pandas represents a one-dimensional array-like object that can hold any data type. It is mutable, meaning you can modify its values by assigning new values to specific indices.                            \n",
    "2. A DataFrame, is a two-dimensional labeled data structure with columns of potentially different types. It is also mutable, allowing you to modify the values in specific cells, add or remove columns, or update the values using various operations.                                              \n",
    "3. Panel was a three-dimensional data structure in earlier versions of Pandas, but it has been deprecated and replaced by more flexible options like MultiIndexing in DataFrame or the use of xarray library for multi-dimensional data.           "
   ]
  },
  {
   "cell_type": "code",
   "execution_count": null,
   "id": "e93f82d7-c166-4858-b849-70ca86d55fbe",
   "metadata": {},
   "outputs": [],
   "source": []
  },
  {
   "cell_type": "markdown",
   "id": "534a077b-9d94-4cb6-a6df-704b7613ec58",
   "metadata": {},
   "source": [
    "Q7. Create a DataFrame using multiple Series. Explain with an example."
   ]
  },
  {
   "cell_type": "code",
   "execution_count": 3,
   "id": "556b5231-56dd-4cb5-931c-69375bccca02",
   "metadata": {},
   "outputs": [
    {
     "name": "stdout",
     "output_type": "stream",
     "text": [
      "   0  1      2\n",
      "0  1  a   True\n",
      "1  2  b  False\n",
      "2  3  c   True\n",
      "   Column1 Column2  Column3\n",
      "0        1       a     True\n",
      "1        2       b    False\n",
      "2        3       c     True\n"
     ]
    }
   ],
   "source": [
    "import pandas as pd\n",
    "\n",
    "# Create multiple Series\n",
    "series1 = pd.Series([1, 2, 3])\n",
    "series2 = pd.Series(['a', 'b', 'c'])\n",
    "series3 = pd.Series([True, False, True])\n",
    "\n",
    "# Combine Series into a DataFrame using pd.concat()\n",
    "df_concat = pd.concat([series1, series2, series3], axis=1)\n",
    "print(df_concat)\n",
    "\n",
    "# Create DataFrame from Series dictionary\n",
    "data = {\n",
    "    'Column1': series1,\n",
    "    'Column2': series2,\n",
    "    'Column3': series3\n",
    "}\n",
    "df_dict = pd.DataFrame(data)\n",
    "print(df_dict)"
   ]
  },
  {
   "cell_type": "code",
   "execution_count": null,
   "id": "3ce8c4a8-07ed-449e-97ad-bdcc05db3be5",
   "metadata": {},
   "outputs": [],
   "source": []
  }
 ],
 "metadata": {
  "kernelspec": {
   "display_name": "Python 3 (ipykernel)",
   "language": "python",
   "name": "python3"
  },
  "language_info": {
   "codemirror_mode": {
    "name": "ipython",
    "version": 3
   },
   "file_extension": ".py",
   "mimetype": "text/x-python",
   "name": "python",
   "nbconvert_exporter": "python",
   "pygments_lexer": "ipython3",
   "version": "3.10.8"
  }
 },
 "nbformat": 4,
 "nbformat_minor": 5
}
