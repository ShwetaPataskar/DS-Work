{
 "cells": [
  {
   "cell_type": "markdown",
   "id": "2b664d01-6bc0-4ecd-97c9-a1446b12222f",
   "metadata": {},
   "source": [
    "Q1. Create a python program to sort the given list of tuples based on integer value using a lambda function.\n",
    "[('Sachin Tendulkar', 34357), ('Ricky Ponting', 27483), ('Jack Kallis', 25534), ('Virat Kohli', 24936)]"
   ]
  },
  {
   "cell_type": "code",
   "execution_count": 4,
   "id": "ccbfaa02-7d5e-4866-8d85-f8dcbaabe9b8",
   "metadata": {},
   "outputs": [
    {
     "name": "stdout",
     "output_type": "stream",
     "text": [
      "Original list:\n",
      "  [('Sachin Tendulkar', 34357), ('Ricky Ponting', 27483), ('Jack Kallis', 25534), ('Virat Kohli', 24936)]\n",
      "\n",
      "Sorted List:\n",
      " [('Virat Kohli', 24936), ('Jack Kallis', 25534), ('Ricky Ponting', 27483), ('Sachin Tendulkar', 34357)]\n"
     ]
    }
   ],
   "source": [
    "players = [('Sachin Tendulkar', 34357), ('Ricky Ponting', 27483), ('Jack Kallis', 25534), ('Virat Kohli', 24936)]\n",
    "print('Original list:\\n ', players)\n",
    "players.sort(key= lambda x: x[1])\n",
    "print('\\nSorted List:\\n',players)"
   ]
  },
  {
   "cell_type": "markdown",
   "id": "1740a663-fdcc-43e1-9cb1-c9c59ce03af8",
   "metadata": {},
   "source": [
    "Q2. Write a Python Program to find the squares of all the numbers in the given list of integers using\n",
    "lambda and map functions.\n",
    "[1, 2, 3, 4, 5, 6, 7, 8, 9, 10]"
   ]
  },
  {
   "cell_type": "code",
   "execution_count": 2,
   "id": "9d04bd22-2bd1-4c6c-8882-8a925dc9ec83",
   "metadata": {},
   "outputs": [
    {
     "data": {
      "text/plain": [
       "[1, 4, 9, 16, 25, 36, 49, 64, 81, 100]"
      ]
     },
     "execution_count": 2,
     "metadata": {},
     "output_type": "execute_result"
    }
   ],
   "source": [
    "l1 = [1, 2, 3, 4, 5, 6, 7, 8, 9, 10]\n",
    "find_sq = list(map(lambda x: x**2, l1))\n",
    "find_sq"
   ]
  },
  {
   "cell_type": "markdown",
   "id": "010429f9-bc8c-4634-9dae-7f94183cc51b",
   "metadata": {},
   "source": [
    "Q3. Write a python program to convert the given list of integers into a tuple of strings. Use map and\n",
    "lambda functions\n",
    "Given String: [1, 2, 3, 4, 5, 6, 7, 8, 9, 10]\n",
    "Expected output: ('1', '2', '3', '4', '5', '6', '7', '8', '9', '10')"
   ]
  },
  {
   "cell_type": "code",
   "execution_count": 27,
   "id": "088ce330-f43c-403b-99d8-4de7f7c01ff2",
   "metadata": {},
   "outputs": [
    {
     "name": "stdout",
     "output_type": "stream",
     "text": [
      "('1', '2', '3', '4', '5', '6', '7', '8', '9', '10')\n"
     ]
    }
   ],
   "source": [
    "l2= [1, 2, 3, 4, 5, 6, 7, 8, 9, 10]\n",
    "tuple_str= tuple(map(str,l2))\n",
    "print(tuple_str)\n"
   ]
  },
  {
   "cell_type": "markdown",
   "id": "d833e74e-dbce-41a0-828f-59fdb3bcbea8",
   "metadata": {},
   "source": [
    "Q4. Write a python program using reduce function to compute the product of a list containing numbers\n",
    "from 1 to 25."
   ]
  },
  {
   "cell_type": "code",
   "execution_count": 3,
   "id": "16c93dc3-e297-4484-9010-694bb6d3d626",
   "metadata": {},
   "outputs": [],
   "source": [
    "from functools import reduce"
   ]
  },
  {
   "cell_type": "code",
   "execution_count": 4,
   "id": "9bab3c43-faa2-4061-97ee-b97d5d03c8db",
   "metadata": {},
   "outputs": [],
   "source": [
    "l3 = [i for i in range(1,26)]"
   ]
  },
  {
   "cell_type": "code",
   "execution_count": 7,
   "id": "2b8f14d9-ea74-4fda-8cf6-a35d1263337b",
   "metadata": {},
   "outputs": [
    {
     "name": "stdout",
     "output_type": "stream",
     "text": [
      "15511210043330985984000000\n"
     ]
    }
   ],
   "source": [
    "product = reduce(lambda x,y: x*y, l3)\n",
    "print(product)"
   ]
  },
  {
   "cell_type": "markdown",
   "id": "e48ea3e5-1949-48e7-88fb-25cdaaa5b3ea",
   "metadata": {},
   "source": [
    "Q5. Write a python program to filter the numbers in a given list that are divisible by 2 and 3 using the\n",
    "filter function.\n",
    "[2, 3, 6, 9, 27, 60, 90, 120, 55, 46]"
   ]
  },
  {
   "cell_type": "code",
   "execution_count": 8,
   "id": "0b80cd73-b6d3-4278-a88d-1bdda224eb40",
   "metadata": {},
   "outputs": [],
   "source": [
    "l4 = [2, 3, 6, 9, 27, 60, 90, 120, 55, 46]"
   ]
  },
  {
   "cell_type": "code",
   "execution_count": 16,
   "id": "c82f5b0d-b476-49cf-b9a3-952d815e2b14",
   "metadata": {},
   "outputs": [
    {
     "data": {
      "text/plain": [
       "[2, 6, 60, 90, 120, 46]"
      ]
     },
     "execution_count": 16,
     "metadata": {},
     "output_type": "execute_result"
    }
   ],
   "source": [
    "list(filter(lambda x: x%2==0, l4))"
   ]
  },
  {
   "cell_type": "code",
   "execution_count": 17,
   "id": "e8c49f89-425e-476d-a9f2-0520fad92d84",
   "metadata": {},
   "outputs": [
    {
     "data": {
      "text/plain": [
       "[3, 6, 9, 27, 60, 90, 120]"
      ]
     },
     "execution_count": 17,
     "metadata": {},
     "output_type": "execute_result"
    }
   ],
   "source": [
    "list(filter(lambda y: y%3==0, l4))"
   ]
  },
  {
   "cell_type": "markdown",
   "id": "d8baa714-049f-4846-837d-e7a766d4b7c5",
   "metadata": {},
   "source": [
    "Q6. Write a python program to find palindromes in the given list of strings using lambda and filter\n",
    "function.\n",
    "['python', 'php', 'aba', 'radar', 'level']"
   ]
  },
  {
   "cell_type": "code",
   "execution_count": 18,
   "id": "09217129-8322-41ae-8d19-efd8a521d7a6",
   "metadata": {},
   "outputs": [],
   "source": [
    "l5 =  ['python', 'php', 'aba', 'radar', 'level']"
   ]
  },
  {
   "cell_type": "code",
   "execution_count": 22,
   "id": "9552c290-61c8-43e0-92bf-b38c4e151013",
   "metadata": {},
   "outputs": [
    {
     "data": {
      "text/plain": [
       "['php', 'aba', 'radar', 'level']"
      ]
     },
     "execution_count": 22,
     "metadata": {},
     "output_type": "execute_result"
    }
   ],
   "source": [
    "list(filter(lambda x: (x== \"\".join(reversed(x))),l5))"
   ]
  },
  {
   "cell_type": "code",
   "execution_count": null,
   "id": "c238ca47-a106-49e8-b61a-41fec6a0aa90",
   "metadata": {},
   "outputs": [],
   "source": []
  }
 ],
 "metadata": {
  "kernelspec": {
   "display_name": "Python 3 (ipykernel)",
   "language": "python",
   "name": "python3"
  },
  "language_info": {
   "codemirror_mode": {
    "name": "ipython",
    "version": 3
   },
   "file_extension": ".py",
   "mimetype": "text/x-python",
   "name": "python",
   "nbconvert_exporter": "python",
   "pygments_lexer": "ipython3",
   "version": "3.10.8"
  }
 },
 "nbformat": 4,
 "nbformat_minor": 5
}
