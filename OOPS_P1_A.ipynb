{
 "cells": [
  {
   "cell_type": "markdown",
   "id": "e9f5e2de-c61e-499e-a671-2e46e3fd0d05",
   "metadata": {},
   "source": [
    "Q1. Explain Class and Object with respect to Object-Oriented Programming. Give a suitable example."
   ]
  },
  {
   "cell_type": "markdown",
   "id": "dd2f1e9d-e322-4387-9b21-dca243c9693c",
   "metadata": {},
   "source": [
    "Class- Class is a blueprint which defines properties and behaviour. It is     classification of real world entity. From class, object can be created and can also called as object constructor\n",
    "\n",
    "Object- Object is nothing but a instance of a class.\n",
    "example as below,"
   ]
  },
  {
   "cell_type": "code",
   "execution_count": 17,
   "id": "6d9c237a-1bb1-4912-b2be-dc8037480861",
   "metadata": {},
   "outputs": [],
   "source": [
    "class students:\n",
    "    \n",
    "    def __init__(self, stud_id, phone_num, mail_id):\n",
    "        self.stud_id = stud_id\n",
    "        self.phone_num = phone_num\n",
    "        self.mail_id = mail_id\n",
    "    \n",
    "    def return_stud_details(self):\n",
    "        return self.stud_id, self.phone_num, self.mail_id"
   ]
  },
  {
   "cell_type": "code",
   "execution_count": 18,
   "id": "a91d9341-bd20-4d1f-b3cd-2a3fe8d1c2e4",
   "metadata": {},
   "outputs": [],
   "source": [
    "s1 = students(1, 9825166636, 'stud1@gmail.com')"
   ]
  },
  {
   "cell_type": "code",
   "execution_count": 19,
   "id": "d66878aa-4728-43de-b873-5782d6c369ef",
   "metadata": {},
   "outputs": [
    {
     "data": {
      "text/plain": [
       "(1, 9825166636, 'stud1@gmail.com')"
      ]
     },
     "execution_count": 19,
     "metadata": {},
     "output_type": "execute_result"
    }
   ],
   "source": [
    "s1.return_stud_details()"
   ]
  },
  {
   "cell_type": "markdown",
   "id": "918f0f6c-6365-40b0-869b-3bea538a0ce5",
   "metadata": {},
   "source": [
    "Here, \"students\" is a class for which \"s1\" is an object created from which we can access class attributes"
   ]
  },
  {
   "cell_type": "markdown",
   "id": "8f52b092-b426-4baf-b8fe-e19e9047e46c",
   "metadata": {},
   "source": [
    "Q2. Name the four pillars of OOPs.\n",
    "1. Abstraction\n",
    "2. Polymorphism\n",
    "3. Encapsulation\n",
    "4. Inheritence"
   ]
  },
  {
   "cell_type": "markdown",
   "id": "a034f137-ccad-4c63-97bf-be04d3c1aeab",
   "metadata": {},
   "source": [
    "Q3. Explain why the __init__() function is used. Give a suitable example.\n",
    "\n",
    "\\__init__\\function is used to assign values to object properties, initialize the attributes of the object. Also used in below cases,\n",
    "\n",
    "1. Attribute Initialization: it allows you to set initial values of the object's attributes.\n",
    "\n",
    "2. Object customization: you can customize the initialization process of an object by specifying default values for attributes \n",
    "\n",
    "3. Data Encapsulation: it helps to encapsulate data within the object. It ensures object's attributes are properly defined & initialized within the class, making it easier to manage & manipulate object's state\n",
    "\n",
    "4. Object Construction: It allows you to perform any necessary configuration required for the object to function correctly\n",
    "\n",
    "5. Method Invocation: function can be used to invoke other methods.\n",
    "\n",
    "example as below,\n"
   ]
  },
  {
   "cell_type": "code",
   "execution_count": 27,
   "id": "bbe94842-87f7-441a-903d-33c0bc1ea476",
   "metadata": {},
   "outputs": [
    {
     "name": "stdout",
     "output_type": "stream",
     "text": [
      "abc\n",
      "25\n"
     ]
    }
   ],
   "source": [
    "class data:\n",
    "    def __init__(self, name, age, gender):\n",
    "        self.name= name\n",
    "        self.age=age\n",
    "        self.gender=gender\n",
    "        \n",
    "p1=data('abc', 25, 'male')\n",
    "print(p1.name)\n",
    "print(p1.age)"
   ]
  },
  {
   "cell_type": "markdown",
   "id": "71c96317-38b9-40c2-987c-f09dabda2e48",
   "metadata": {},
   "source": [
    "Q4. Why self is used in OOPs?\n",
    "\n",
    "Self is used to represent the instance of the class. With the self keyword you can access attributes & methods of the class. As \"Self\" is not a reserved keyword, we can call it by any other name"
   ]
  },
  {
   "cell_type": "markdown",
   "id": "7123a9a4-416a-4b9c-b060-bb8ff3109122",
   "metadata": {},
   "source": [
    "Q5. What is inheritance? Give an example for each type of inheritance.\n",
    "\n",
    "Inheritence-- Is is a concept of oop which allows a class to inherit attributes and methods from another class. The ability of an object to share properties and behaviors with other objects\n",
    "\n",
    "below aqre the inheritance types & examples:\n",
    " "
   ]
  },
  {
   "cell_type": "markdown",
   "id": "201819bd-6c0b-4666-a1b7-a8a865f1e73f",
   "metadata": {},
   "source": [
    "Single Inheritance-- In this a subclass or derived class inherit the properties & characteristics of the parent class.\n"
   ]
  },
  {
   "cell_type": "code",
   "execution_count": 2,
   "id": "ee61f65a-17eb-4d08-9ccc-ce08740e3f64",
   "metadata": {},
   "outputs": [
    {
     "name": "stdout",
     "output_type": "stream",
     "text": [
      "It is parent class\n",
      "It is sub class\n",
      "10\n",
      "5\n"
     ]
    }
   ],
   "source": [
    "class above:\n",
    "    i =5 \n",
    "    def fun1(self):\n",
    "        print(\"It is parent class\")\n",
    "\n",
    "class below(above):\n",
    "    i=10\n",
    "    def fun2(self):\n",
    "        print(\"It is sub class\")\n",
    "        \n",
    "temp1=below()\n",
    "temp2=above()\n",
    "temp1.fun1()\n",
    "temp1.fun2()\n",
    "print(temp1.i)\n",
    "print(temp2.i)"
   ]
  },
  {
   "cell_type": "markdown",
   "id": "5500951d-b321-4308-be17-63c042f782c4",
   "metadata": {},
   "source": [
    "2. Multiple Inheritance-- It enables child class to inherit from more than one parent class."
   ]
  },
  {
   "cell_type": "code",
   "execution_count": 6,
   "id": "42ef7edc-db7f-4d74-a393-9f831c22aea6",
   "metadata": {},
   "outputs": [
    {
     "name": "stdout",
     "output_type": "stream",
     "text": [
      "this is a child class\n",
      "first num is:  10\n",
      "second num is:  5\n"
     ]
    }
   ],
   "source": [
    "#parent class 1\n",
    "class A:\n",
    "    demo1=0\n",
    "    def fun1(self):\n",
    "        print(self.demo1)\n",
    "        \n",
    "#parent class 2\n",
    "class B:\n",
    "    demo2=0\n",
    "    def fun2(self):\n",
    "        print(self.demo2)\n",
    "        \n",
    "#child class\n",
    "class C(A,B):\n",
    "    def fun3(self):\n",
    "        print(\"this is a child class\")\n",
    "\n",
    "#main code\n",
    "c= C()\n",
    "c.demo1=10\n",
    "c.demo2=5\n",
    "c.fun3()\n",
    "print(\"first num is: \",c.demo1)\n",
    "print(\"second num is: \",c.demo2)"
   ]
  },
  {
   "cell_type": "markdown",
   "id": "42fdb925-8422-4830-a413-dfc71d7252e5",
   "metadata": {},
   "source": [
    "3. Multilevel Inhertance-- a class serves as the base class for another class, which in turn becomes the base class for a third class. The features that are part of the original class, as well as the class that is derived from it, are passed on to the new class."
   ]
  },
  {
   "cell_type": "code",
   "execution_count": 14,
   "id": "530f43be-3661-43f5-8c55-911b94228e0b",
   "metadata": {},
   "outputs": [
    {
     "name": "stdout",
     "output_type": "stream",
     "text": [
      "dog is eating.\n",
      "dog is sleeping.\n",
      "dog is barking.\n"
     ]
    },
    {
     "data": {
      "text/plain": [
       "'dog'"
      ]
     },
     "execution_count": 14,
     "metadata": {},
     "output_type": "execute_result"
    }
   ],
   "source": [
    "class Animal:\n",
    "    def __init__(self, name):\n",
    "        self.name = name\n",
    "\n",
    "    def eat(self):\n",
    "        print(f\"{self.name} is eating.\")\n",
    "\n",
    "    def sleep(self):\n",
    "        print(f\"{self.name} is sleeping.\")\n",
    "        \n",
    "class Dog(Animal):\n",
    "    def bark(self):\n",
    "        print(f\"{self.name} is barking.\")\n",
    "        \n",
    "class Bulldog(Dog):\n",
    "    def guard(self):\n",
    "        print(f\"{self.name} is guarding the house.\")\n",
    "        \n",
    "new = Bulldog('dog')\n",
    "new.eat()\n",
    "new.sleep()\n",
    "new.bark()\n",
    "new.name\n"
   ]
  },
  {
   "cell_type": "markdown",
   "id": "46938bde-30e4-44f9-991e-ecacc81f05ba",
   "metadata": {},
   "source": [
    "4. Hierarchical Inheritance-- In this multiple derived classes are created from the same base, it is a hierarchical inheritance "
   ]
  },
  {
   "cell_type": "code",
   "execution_count": 17,
   "id": "282f316e-65f9-40e0-bd01-044d8e4410bc",
   "metadata": {},
   "outputs": [
    {
     "name": "stdout",
     "output_type": "stream",
     "text": [
      "this is a parent class\n",
      "this is a child1 class\n",
      "this is a parent class\n",
      "this is a child2 class\n"
     ]
    }
   ],
   "source": [
    "class Parent1:\n",
    "    def func_1(self):\n",
    "        print(\"this is a parent class\")\n",
    "\n",
    "#derived class1\n",
    "class Child1(Parent1):\n",
    "    def func_2(self):\n",
    "        print(\"this is a child1 class\")\n",
    "\n",
    "class Child2(Parent1):\n",
    "    def func_3(self):\n",
    "        print(\"this is a child2 class\")\n",
    "        \n",
    "obj1=Child1()\n",
    "obj2=Child2()\n",
    "obj1.func_1()\n",
    "obj1.func_2()\n",
    "obj2.func_1()\n",
    "obj2.func_3()"
   ]
  },
  {
   "cell_type": "markdown",
   "id": "401ce873-6f4b-4bf6-bae4-8706399c8f6a",
   "metadata": {},
   "source": [
    "5. Hybrid Inheritance--  Hybrid inheritance in Python is a combination of multiple types of inheritance, including multiple inheritance and multilevel inheritance. It involves creating classes that inherit from multiple base classes, forming a hybrid class hierarchy."
   ]
  },
  {
   "cell_type": "code",
   "execution_count": 18,
   "id": "5727c914-f6b0-4677-9f47-9e46eba42f15",
   "metadata": {},
   "outputs": [
    {
     "name": "stdout",
     "output_type": "stream",
     "text": [
      "The Tesla is being driven.\n",
      "The Tesla is being charged.\n",
      "The Harley-Davidson is being driven.\n",
      "The Tesla is being parked.\n",
      "The Harley-Davidson is being ridden.\n"
     ]
    }
   ],
   "source": [
    "class Vehicle:\n",
    "    def __init__(self, brand):\n",
    "        self.brand = brand\n",
    "\n",
    "    def drive(self):\n",
    "        print(f\"The {self.brand} is being driven.\")\n",
    "\n",
    "\n",
    "class Electric:\n",
    "    def charge(self):\n",
    "        print(f\"The {self.brand} is being charged.\")\n",
    "\n",
    "\n",
    "class Car(Vehicle, Electric):\n",
    "    def park(self):\n",
    "        print(f\"The {self.brand} is being parked.\")\n",
    "\n",
    "\n",
    "class Motorcycle(Vehicle):\n",
    "    def ride(self):\n",
    "        print(f\"The {self.brand} is being ridden.\")\n",
    "\n",
    "\n",
    "# Creating instances of the derived classes\n",
    "car = Car(\"Tesla\")\n",
    "motorcycle = Motorcycle(\"Harley-Davidson\")\n",
    "\n",
    "# Calling methods from the base classes\n",
    "car.drive()   \n",
    "car.charge()  \n",
    "motorcycle.drive()   \n",
    "\n",
    "# Calling methods specific to each derived class\n",
    "car.park()   \n",
    "motorcycle.ride()  "
   ]
  },
  {
   "cell_type": "code",
   "execution_count": null,
   "id": "e7627dc0-8841-4775-81d2-47f25cc40fec",
   "metadata": {},
   "outputs": [],
   "source": []
  }
 ],
 "metadata": {
  "kernelspec": {
   "display_name": "Python 3 (ipykernel)",
   "language": "python",
   "name": "python3"
  },
  "language_info": {
   "codemirror_mode": {
    "name": "ipython",
    "version": 3
   },
   "file_extension": ".py",
   "mimetype": "text/x-python",
   "name": "python",
   "nbconvert_exporter": "python",
   "pygments_lexer": "ipython3",
   "version": "3.10.8"
  }
 },
 "nbformat": 4,
 "nbformat_minor": 5
}
